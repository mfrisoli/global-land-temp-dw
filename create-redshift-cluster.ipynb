{
 "cells": [
  {
   "cell_type": "markdown",
   "metadata": {},
   "source": [
    "# Jupyter Notebook to create and delete AWS Redshift Cluster\n",
    "\n",
    "Simple steps to start an AWS Redshift Cluster for Data Wharehouse implementing Infrastructure as Code.\n",
    "\n",
    "### Index:\n",
    "1. [Libraries](#1.-Install)\n",
    "2. [Parameters](#2.-Parameters)\n",
    "3. [Resources and Clients](#3.-Resources-and-Clients)\n",
    "4. [Create IAM Role](#4.-Create-IAM-Role)\n",
    "5. [Create Cluster](#5.-Create-Cluster)\n",
    "6. [Delete Cluster and IAM Role](#6.-Delete-Cluster-and-IAM-Role)"
   ]
  },
  {
   "cell_type": "markdown",
   "metadata": {},
   "source": [
    "## 1. Install"
   ]
  },
  {
   "cell_type": "code",
   "execution_count": 1,
   "metadata": {},
   "outputs": [],
   "source": [
    "# Import all libraries required\n",
    "import boto3\n",
    "import json\n",
    "import pandas as pd\n",
    "from configparser import ConfigParser"
   ]
  },
  {
   "cell_type": "markdown",
   "metadata": {},
   "source": [
    "## 2. Parameters "
   ]
  },
  {
   "cell_type": "code",
   "execution_count": 2,
   "metadata": {},
   "outputs": [],
   "source": [
    "# Get User Parameters from awsUser.cfg file NEVER SHARE YOU SECRET KEY\n",
    "config = ConfigParser()\n",
    "config.read('awsUser.cfg')\n",
    "\n",
    "KEY= config.get('USER_DETAILS', 'KEY')\n",
    "SECRET= config.get('USER_DETAILS', 'SECRET')"
   ]
  },
  {
   "cell_type": "code",
   "execution_count": 3,
   "metadata": {},
   "outputs": [],
   "source": [
    "# Get Redshift parameters\n",
    "\n",
    "config = ConfigParser()\n",
    "config.read('DW.cfg')\n",
    "\n",
    "# DB Parameters\n",
    "DB_NAME=config.get('CLUSTER', 'DB_NAME')\n",
    "DB_USER=config.get('CLUSTER', 'DB_USER')\n",
    "DB_PASSWORD=config.get('CLUSTER', 'DB_PASSWORD')\n",
    "\n",
    "# DWH Parameters (Query AWS for additional options)\n",
    "DWH_CLUSTER_TYPE=config.get('CLUSTER', 'DWH_CLUSTER_TYPE')\n",
    "DWH_NUM_NODES=config.get('CLUSTER', 'DWH_NUM_NODES')\n",
    "DWH_NODE_TYPE=config.get('CLUSTER', 'DWH_NODE_TYPE')\n",
    "DWH_PORT=config.get('CLUSTER', 'DWH_PORT')\n",
    "DWH_REGION=config.get('CLUSTER', 'DWH_REGION')\n",
    "\n",
    "DWH_IAM_ROLE_NAME=config.get('CLUSTER', 'DWH_IAM_ROLE_NAME')\n",
    "DWH_CLUSTER_IDENTIFIER=config.get('CLUSTER', 'DWH_CLUSTER_IDENTIFIER')\n",
    "DWH_DB=config.get('CLUSTER', 'DWH_DB')"
   ]
  },
  {
   "cell_type": "markdown",
   "metadata": {},
   "source": [
    "## 3. Resources and Clients"
   ]
  },
  {
   "cell_type": "code",
   "execution_count": 4,
   "metadata": {},
   "outputs": [],
   "source": [
    "# Create Resources and Clients\n",
    "\n",
    "ec2 = boto3.resource('ec2',\n",
    "                    region_name=DWH_REGION,\n",
    "                    aws_access_key_id=KEY,\n",
    "                    aws_secret_access_key=SECRET)\n",
    "\n",
    "s3 = boto3.resource('s3',\n",
    "                    region_name=DWH_REGION,\n",
    "                    aws_access_key_id=KEY,\n",
    "                    aws_secret_access_key=SECRET)\n",
    "\n",
    "iam = boto3.client('iam',\n",
    "                    region_name=DWH_REGION,\n",
    "                    aws_access_key_id=KEY,\n",
    "                    aws_secret_access_key=SECRET)\n",
    "\n",
    "redshift = boto3.client('redshift',\n",
    "                    region_name=DWH_REGION,\n",
    "                    aws_access_key_id=KEY,\n",
    "                    aws_secret_access_key=SECRET)"
   ]
  },
  {
   "cell_type": "markdown",
   "metadata": {},
   "source": [
    "## 4. Create IAM Role"
   ]
  },
  {
   "cell_type": "code",
   "execution_count": 5,
   "metadata": {},
   "outputs": [
    {
     "output_type": "stream",
     "name": "stdout",
     "text": [
      "Creating IAM Role:\n"
     ]
    }
   ],
   "source": [
    "# Create IAM Role:\n",
    "try:\n",
    "    print('Creating IAM Role:')\n",
    "    dwhRole = iam.create_role(\n",
    "        Path='/',\n",
    "        RoleName=DWH_IAM_ROLE_NAME,\n",
    "        Description='Allows redshift cluster to call AWS services on your behalf- Udacity project',\n",
    "        AssumeRolePolicyDocument=json.dumps(\n",
    "            {'Statement':[{'Action':'sts:AssumeRole',\n",
    "                        'Effect': 'Allow',\n",
    "                        'Principal': {'Service': 'redshift.amazonaws.com'}}],\n",
    "             'Version': '2012-10-17'})\n",
    "             )\n",
    "except Exception as e:\n",
    "    print(e)"
   ]
  },
  {
   "cell_type": "code",
   "execution_count": 6,
   "metadata": {},
   "outputs": [
    {
     "output_type": "execute_result",
     "data": {
      "text/plain": [
       "200"
      ]
     },
     "metadata": {},
     "execution_count": 6
    }
   ],
   "source": [
    "# Attach IAM role policy\n",
    "\n",
    "iam.attach_role_policy(RoleName=DWH_IAM_ROLE_NAME,\n",
    "                      PolicyArn='arn:aws:iam::aws:policy/AmazonS3ReadOnlyAccess'\n",
    "                      )['ResponseMetadata']['HTTPStatusCode']"
   ]
  },
  {
   "cell_type": "code",
   "execution_count": 7,
   "metadata": {},
   "outputs": [
    {
     "output_type": "stream",
     "name": "stdout",
     "text": [
      "arn:aws:iam::879294216748:role/dwhRole\n"
     ]
    }
   ],
   "source": [
    "# Get Role ARN\n",
    "\n",
    "roleArn = iam.get_role(RoleName=DWH_IAM_ROLE_NAME)['Role']['Arn']\n",
    "print(roleArn)\n"
   ]
  },
  {
   "cell_type": "markdown",
   "metadata": {},
   "source": [
    "## 5. Create Cluster"
   ]
  },
  {
   "cell_type": "code",
   "execution_count": 8,
   "metadata": {},
   "outputs": [],
   "source": [
    "# Create Redshift Cluster\n",
    "\n",
    "try:\n",
    "    response = redshift.create_cluster(\n",
    "        # PARAMETERS FOR HARDWARE\n",
    "        ClusterType=DWH_CLUSTER_TYPE,\n",
    "        NodeType=DWH_NODE_TYPE,\n",
    "        NumberOfNodes=int(DWH_NUM_NODES),\n",
    "        # PARAMETERS FOR IDENTIFIERS & CREDENTIALS\n",
    "        DBName=DB_NAME,\n",
    "        ClusterIdentifier=DWH_CLUSTER_IDENTIFIER,\n",
    "        MasterUsername=DB_USER,\n",
    "        MasterUserPassword=DB_PASSWORD,\n",
    "        #Parameter for role\n",
    "        IamRoles=[roleArn]\n",
    "    )\n",
    "except Exception as e:\n",
    "    print(e)"
   ]
  },
  {
   "cell_type": "code",
   "execution_count": 9,
   "metadata": {},
   "outputs": [],
   "source": [
    "# Redshift Cluster Details\n",
    "\n",
    "# Function to Get Redshift Cluster Details\n",
    "def prettyRedshiftProps(props):\n",
    "    pd.set_option('display.max_colwidth', None)\n",
    "    keysToShow = [\"ClusterIdentifier\", \"NodeType\", \"ClusterStatus\", \"MasterUsername\", \"DBName\", \"Endpoint\", \"NumberOfNodes\", 'VpcId']\n",
    "    x = [(k, v) for k,v in props.items() if k in keysToShow]\n",
    "    return pd.DataFrame(data=x, columns=[\"Key\", \"Value\"])\n",
    "    "
   ]
  },
  {
   "cell_type": "code",
   "execution_count": 13,
   "metadata": {},
   "outputs": [
    {
     "output_type": "execute_result",
     "data": {
      "text/plain": [
       "                 Key  \\\n",
       "0  ClusterIdentifier   \n",
       "1           NodeType   \n",
       "2      ClusterStatus   \n",
       "3     MasterUsername   \n",
       "4             DBName   \n",
       "5           Endpoint   \n",
       "6              VpcId   \n",
       "7      NumberOfNodes   \n",
       "\n",
       "                                                                                   Value  \n",
       "0                                                                             dwhcluster  \n",
       "1                                                                              dc2.large  \n",
       "2                                                                              available  \n",
       "3                                                                                dwhuser  \n",
       "4                                                                             landtempdb  \n",
       "5  {'Address': 'dwhcluster.cg959wyk8kyf.us-west-2.redshift.amazonaws.com', 'Port': 5439}  \n",
       "6                                                                           vpc-81bbf0f9  \n",
       "7                                                                                      4  "
      ],
      "text/html": "<div>\n<style scoped>\n    .dataframe tbody tr th:only-of-type {\n        vertical-align: middle;\n    }\n\n    .dataframe tbody tr th {\n        vertical-align: top;\n    }\n\n    .dataframe thead th {\n        text-align: right;\n    }\n</style>\n<table border=\"1\" class=\"dataframe\">\n  <thead>\n    <tr style=\"text-align: right;\">\n      <th></th>\n      <th>Key</th>\n      <th>Value</th>\n    </tr>\n  </thead>\n  <tbody>\n    <tr>\n      <th>0</th>\n      <td>ClusterIdentifier</td>\n      <td>dwhcluster</td>\n    </tr>\n    <tr>\n      <th>1</th>\n      <td>NodeType</td>\n      <td>dc2.large</td>\n    </tr>\n    <tr>\n      <th>2</th>\n      <td>ClusterStatus</td>\n      <td>available</td>\n    </tr>\n    <tr>\n      <th>3</th>\n      <td>MasterUsername</td>\n      <td>dwhuser</td>\n    </tr>\n    <tr>\n      <th>4</th>\n      <td>DBName</td>\n      <td>landtempdb</td>\n    </tr>\n    <tr>\n      <th>5</th>\n      <td>Endpoint</td>\n      <td>{'Address': 'dwhcluster.cg959wyk8kyf.us-west-2.redshift.amazonaws.com', 'Port': 5439}</td>\n    </tr>\n    <tr>\n      <th>6</th>\n      <td>VpcId</td>\n      <td>vpc-81bbf0f9</td>\n    </tr>\n    <tr>\n      <th>7</th>\n      <td>NumberOfNodes</td>\n      <td>4</td>\n    </tr>\n  </tbody>\n</table>\n</div>"
     },
     "metadata": {},
     "execution_count": 13
    }
   ],
   "source": [
    "# Get Redshift Cluster Details, Run until ClusterStatus becomes available\n",
    "myClusterProps = redshift.describe_clusters(ClusterIdentifier=DWH_CLUSTER_IDENTIFIER)['Clusters'][0]\n",
    "prettyRedshiftProps(myClusterProps)"
   ]
  },
  {
   "cell_type": "code",
   "execution_count": 14,
   "metadata": {},
   "outputs": [
    {
     "output_type": "stream",
     "name": "stdout",
     "text": [
      "DWH_ENDPOINT ::  dwhcluster.cg959wyk8kyf.us-west-2.redshift.amazonaws.com\nDWH_ROLE_ARN ::  arn:aws:iam::879294216748:role/dwhRole\n"
     ]
    }
   ],
   "source": [
    "# Get Cluster Endpoint and Role ARN\n",
    "\n",
    "DWH_ENDPOINT = myClusterProps['Endpoint']['Address']\n",
    "DWH_ROLE_ARN = myClusterProps['IamRoles'][0]['IamRoleArn']\n",
    "\n",
    "# Update Config file\n",
    "config.set('CLUSTER','HOST', DWH_ENDPOINT)\n",
    "config.set('IAM_ROLE','ARN', DWH_ROLE_ARN)\n",
    "\n",
    "with open('DW.cfg', 'w') as configfile:\n",
    "    config.write(configfile)\n",
    "\n",
    "print(\"DWH_ENDPOINT :: \", DWH_ENDPOINT)\n",
    "print(\"DWH_ROLE_ARN :: \", DWH_ROLE_ARN)"
   ]
  },
  {
   "cell_type": "code",
   "execution_count": 15,
   "metadata": {},
   "outputs": [
    {
     "output_type": "stream",
     "name": "stdout",
     "text": [
      "ec2.SecurityGroup(id='sg-add3f083')\n",
      "An error occurred (InvalidPermission.Duplicate) when calling the AuthorizeSecurityGroupIngress operation: the specified rule \"peer: 0.0.0.0/0, TCP, from port: 5439, to port: 5439, ALLOW\" already exists\n"
     ]
    }
   ],
   "source": [
    "# Open Connection To the Cluster\n",
    "\n",
    "try:\n",
    "    vpc = ec2.Vpc(id=myClusterProps['VpcId'])\n",
    "    defaultSg = list(vpc.security_groups.all())[0]\n",
    "    print(defaultSg)\n",
    "    defaultSg.authorize_ingress(\n",
    "        GroupName='default',\n",
    "        CidrIp='0.0.0.0/0',\n",
    "        IpProtocol='TCP',\n",
    "        FromPort=int(DWH_PORT),\n",
    "        ToPort=int(DWH_PORT)\n",
    "    )\n",
    "except Exception as e:\n",
    "    print(e)"
   ]
  },
  {
   "cell_type": "markdown",
   "metadata": {},
   "source": [
    "## 6. Delete Cluster and IAM Role"
   ]
  },
  {
   "cell_type": "code",
   "execution_count": null,
   "metadata": {},
   "outputs": [],
   "source": [
    "# Get Redshift Cluster Details\n",
    "\n",
    "myClusterProps = redshift.describe_clusters(ClusterIdentifier=DWH_CLUSTER_IDENTIFIER)['Clusters'][0]\n",
    "prettyRedshiftProps(myClusterProps)"
   ]
  },
  {
   "cell_type": "code",
   "execution_count": null,
   "metadata": {},
   "outputs": [],
   "source": [
    "# Delete Cluster\n",
    "\n",
    "redshift.delete_cluster(ClusterIdentifier=DWH_CLUSTER_IDENTIFIER, SkipFinalClusterSnapshot=True)"
   ]
  },
  {
   "cell_type": "code",
   "execution_count": null,
   "metadata": {},
   "outputs": [],
   "source": [
    "# Get Redshift Cluster Details\n",
    "\n",
    "myClusterProps = redshift.describe_clusters(ClusterIdentifier=DWH_CLUSTER_IDENTIFIER)['Clusters'][0]\n",
    "prettyRedshiftProps(myClusterProps)"
   ]
  },
  {
   "cell_type": "code",
   "execution_count": null,
   "metadata": {},
   "outputs": [],
   "source": [
    "# Detach and Delete IAM Role\n",
    "\n",
    "iam.detach_role_policy(RoleName=DWH_IAM_ROLE_NAME, PolicyArn=\"arn:aws:iam::aws:policy/AmazonS3ReadOnlyAccess\")\n",
    "iam.delete_role(RoleName=DWH_IAM_ROLE_NAME)"
   ]
  },
  {
   "cell_type": "code",
   "execution_count": null,
   "metadata": {},
   "outputs": [],
   "source": [
    "# Get Redshift Cluster Details make sure is deleting\n",
    "\n",
    "myClusterProps = redshift.describe_clusters(ClusterIdentifier=DWH_CLUSTER_IDENTIFIER)['Clusters'][0]\n",
    "prettyRedshiftProps(myClusterProps)"
   ]
  },
  {
   "cell_type": "markdown",
   "metadata": {},
   "source": [
    "## **DISCLAIMER: MAKE SURE THAT THE CLUSTER IS DELETED TO AVOID GETTING CHARGE**"
   ]
  }
 ],
 "metadata": {
  "kernelspec": {
   "display_name": "Python 3",
   "language": "python",
   "name": "python3"
  },
  "language_info": {
   "codemirror_mode": {
    "name": "ipython",
    "version": 3
   },
   "file_extension": ".py",
   "mimetype": "text/x-python",
   "name": "python",
   "nbconvert_exporter": "python",
   "pygments_lexer": "ipython3",
   "version": "3.7.6-final"
  }
 },
 "nbformat": 4,
 "nbformat_minor": 4
}